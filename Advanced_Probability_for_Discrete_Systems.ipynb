{
  "nbformat": 4,
  "nbformat_minor": 0,
  "metadata": {
    "colab": {
      "name": "Advanced Probability for Discrete Systems",
      "provenance": [],
      "collapsed_sections": [],
      "include_colab_link": true
    },
    "kernelspec": {
      "display_name": "Python 3",
      "name": "python3"
    }
  },
  "cells": [
    {
      "cell_type": "markdown",
      "metadata": {
        "id": "view-in-github",
        "colab_type": "text"
      },
      "source": [
        "<a href=\"https://colab.research.google.com/github/Marwandhuheir/Marwandhuheir-Homework-1-/blob/master/Advanced_Probability_for_Discrete_Systems.ipynb\" target=\"_parent\"><img src=\"https://colab.research.google.com/assets/colab-badge.svg\" alt=\"Open In Colab\"/></a>"
      ]
    },
    {
      "cell_type": "markdown",
      "metadata": {
        "id": "MJbqSmfn62Xd",
        "colab_type": "text"
      },
      "source": [
        "Home Work 1\n"
      ]
    },
    {
      "cell_type": "markdown",
      "metadata": {
        "id": "C3zTtjoz7PnL",
        "colab_type": "text"
      },
      "source": [
        "In mathematics, the notion of permutation relates to the act of arranging all the members of a set into some sequence or order, or if the set is already ordered, rearranging (reordering) its elements, a process called permuting. These differ from combinations, which are selections of some members of a set where order is disregarded.\n",
        "The following code presents the permutation of 4 different alphabet in whihc they have 4p4 which equal 24 different character."
      ]
    },
    {
      "cell_type": "code",
      "metadata": {
        "id": "LccrPwDHCPfa",
        "colab_type": "code",
        "outputId": "f426f106-5e68-4492-abc5-a36e3fd40e91",
        "colab": {
          "base_uri": "https://localhost:8080/",
          "height": 54
        }
      },
      "source": [
        "def permute_string(str):\n",
        "    if len(str) == 0:\n",
        "        return ['']\n",
        "    prev_list = permute_string(str[1:len(str)])\n",
        "    next_list = []\n",
        "    for i in range(0,len(prev_list)):\n",
        "        for j in range(0,len(str)):\n",
        "            new_str = prev_list[i][0:j]+str[0]+prev_list[i][j:len(str)-1]\n",
        "            if new_str not in next_list:\n",
        "                next_list.append(new_str)\n",
        "    return next_list\n",
        "\n",
        "print(permute_string('ABCD'));"
      ],
      "execution_count": 0,
      "outputs": [
        {
          "output_type": "stream",
          "text": [
            "['ABCD', 'BACD', 'BCAD', 'BCDA', 'ACBD', 'CABD', 'CBAD', 'CBDA', 'ACDB', 'CADB', 'CDAB', 'CDBA', 'ABDC', 'BADC', 'BDAC', 'BDCA', 'ADBC', 'DABC', 'DBAC', 'DBCA', 'ADCB', 'DACB', 'DCAB', 'DCBA']\n"
          ],
          "name": "stdout"
        }
      ]
    }
  ]
}